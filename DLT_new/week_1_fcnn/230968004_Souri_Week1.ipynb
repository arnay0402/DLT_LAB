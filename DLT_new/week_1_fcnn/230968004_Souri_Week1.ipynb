{
 "cells": [
  {
   "cell_type": "code",
   "execution_count": 159,
   "id": "8912d9f7-9aad-4010-a2b5-e1dd8677b0e6",
   "metadata": {},
   "outputs": [],
   "source": [
    "import numpy as np\n",
    "import pandas as pd\n",
    "from sklearn.datasets import load_iris\n",
    "from sklearn.model_selection import train_test_split\n",
    "from sklearn.preprocessing import StandardScaler, OneHotEncoder\n",
    "from tensorflow.keras.models import Sequential\n",
    "from tensorflow.keras.layers import Dense\n",
    "from tensorflow.keras.optimizers import Adam\n",
    "import matplotlib.pyplot as plt\n",
    "import warnings\n",
    "warnings.simplefilter(\"ignore\")"
   ]
  },
  {
   "cell_type": "markdown",
   "id": "4ba330c8-b175-4f44-a02c-34497eee90b8",
   "metadata": {},
   "source": [
    "### QUESTION 1\n",
    "#### Using the Iris Flowers Dataset, build and Neural Network with the following specifications to perform multi-class classification.\n",
    "- Split the Data into Training: Validation: Testing = 80:10:10\n",
    "- Number of Hidden Layers = 2, containing 8 Neurons and 4 Neurons\n",
    "- Use RELU activation function in the hidden layers, choose the optimizer as ADAM and set learning rate to be equal to 0.1."
   ]
  },
  {
   "cell_type": "code",
   "execution_count": 160,
   "id": "0fb8a7b2-629e-4253-8440-47052fc21843",
   "metadata": {},
   "outputs": [],
   "source": [
    "iris = load_iris()\n",
    "X = iris.data\n",
    "y = iris.target.reshape(-1, 1)"
   ]
  },
  {
   "cell_type": "code",
   "execution_count": 161,
   "id": "60668e38-b3be-418d-aa39-5fac253f03d2",
   "metadata": {},
   "outputs": [],
   "source": [
    "encoder = OneHotEncoder(sparse=False)\n",
    "y_encoded = encoder.fit_transform(y)"
   ]
  },
  {
   "cell_type": "code",
   "execution_count": 162,
   "id": "aaad2cd2-e897-45cf-9ef5-160551ed27b9",
   "metadata": {},
   "outputs": [],
   "source": [
    "X_train, X_temp, y_train, y_temp = train_test_split(X, y_encoded, test_size=0.2, random_state=42, stratify=y)\n",
    "X_val, X_test, y_val, y_test = train_test_split(X_temp, y_temp, test_size=0.5, random_state=42, stratify=y_temp)"
   ]
  },
  {
   "cell_type": "code",
   "execution_count": 163,
   "id": "0891872c-d0f0-4644-a3d8-ade2a1837d1c",
   "metadata": {},
   "outputs": [],
   "source": [
    "model_iris = Sequential([\n",
    "    Dense(8, activation='relu', input_shape=(X.shape[1],)),\n",
    "    Dense(4, activation='relu'),\n",
    "    Dense(3, activation='softmax')\n",
    "])"
   ]
  },
  {
   "cell_type": "code",
   "execution_count": 164,
   "id": "783acf0a-6bbc-4d1d-ba63-912a08d9af6b",
   "metadata": {},
   "outputs": [
    {
     "name": "stdout",
     "output_type": "stream",
     "text": [
      "Iris Dataset Model Summary:\n"
     ]
    },
    {
     "data": {
      "text/html": [
       "<pre style=\"white-space:pre;overflow-x:auto;line-height:normal;font-family:Menlo,'DejaVu Sans Mono',consolas,'Courier New',monospace\"><span style=\"font-weight: bold\">Model: \"sequential_15\"</span>\n",
       "</pre>\n"
      ],
      "text/plain": [
       "\u001b[1mModel: \"sequential_15\"\u001b[0m\n"
      ]
     },
     "metadata": {},
     "output_type": "display_data"
    },
    {
     "data": {
      "text/html": [
       "<pre style=\"white-space:pre;overflow-x:auto;line-height:normal;font-family:Menlo,'DejaVu Sans Mono',consolas,'Courier New',monospace\">┏━━━━━━━━━━━━━━━━━━━━━━━━━━━━━━━━━┳━━━━━━━━━━━━━━━━━━━━━━━━┳━━━━━━━━━━━━━━━┓\n",
       "┃<span style=\"font-weight: bold\"> Layer (type)                    </span>┃<span style=\"font-weight: bold\"> Output Shape           </span>┃<span style=\"font-weight: bold\">       Param # </span>┃\n",
       "┡━━━━━━━━━━━━━━━━━━━━━━━━━━━━━━━━━╇━━━━━━━━━━━━━━━━━━━━━━━━╇━━━━━━━━━━━━━━━┩\n",
       "│ dense_47 (<span style=\"color: #0087ff; text-decoration-color: #0087ff\">Dense</span>)                │ (<span style=\"color: #00d7ff; text-decoration-color: #00d7ff\">None</span>, <span style=\"color: #00af00; text-decoration-color: #00af00\">8</span>)              │            <span style=\"color: #00af00; text-decoration-color: #00af00\">40</span> │\n",
       "├─────────────────────────────────┼────────────────────────┼───────────────┤\n",
       "│ dense_48 (<span style=\"color: #0087ff; text-decoration-color: #0087ff\">Dense</span>)                │ (<span style=\"color: #00d7ff; text-decoration-color: #00d7ff\">None</span>, <span style=\"color: #00af00; text-decoration-color: #00af00\">4</span>)              │            <span style=\"color: #00af00; text-decoration-color: #00af00\">36</span> │\n",
       "├─────────────────────────────────┼────────────────────────┼───────────────┤\n",
       "│ dense_49 (<span style=\"color: #0087ff; text-decoration-color: #0087ff\">Dense</span>)                │ (<span style=\"color: #00d7ff; text-decoration-color: #00d7ff\">None</span>, <span style=\"color: #00af00; text-decoration-color: #00af00\">3</span>)              │            <span style=\"color: #00af00; text-decoration-color: #00af00\">15</span> │\n",
       "└─────────────────────────────────┴────────────────────────┴───────────────┘\n",
       "</pre>\n"
      ],
      "text/plain": [
       "┏━━━━━━━━━━━━━━━━━━━━━━━━━━━━━━━━━┳━━━━━━━━━━━━━━━━━━━━━━━━┳━━━━━━━━━━━━━━━┓\n",
       "┃\u001b[1m \u001b[0m\u001b[1mLayer (type)                   \u001b[0m\u001b[1m \u001b[0m┃\u001b[1m \u001b[0m\u001b[1mOutput Shape          \u001b[0m\u001b[1m \u001b[0m┃\u001b[1m \u001b[0m\u001b[1m      Param #\u001b[0m\u001b[1m \u001b[0m┃\n",
       "┡━━━━━━━━━━━━━━━━━━━━━━━━━━━━━━━━━╇━━━━━━━━━━━━━━━━━━━━━━━━╇━━━━━━━━━━━━━━━┩\n",
       "│ dense_47 (\u001b[38;5;33mDense\u001b[0m)                │ (\u001b[38;5;45mNone\u001b[0m, \u001b[38;5;34m8\u001b[0m)              │            \u001b[38;5;34m40\u001b[0m │\n",
       "├─────────────────────────────────┼────────────────────────┼───────────────┤\n",
       "│ dense_48 (\u001b[38;5;33mDense\u001b[0m)                │ (\u001b[38;5;45mNone\u001b[0m, \u001b[38;5;34m4\u001b[0m)              │            \u001b[38;5;34m36\u001b[0m │\n",
       "├─────────────────────────────────┼────────────────────────┼───────────────┤\n",
       "│ dense_49 (\u001b[38;5;33mDense\u001b[0m)                │ (\u001b[38;5;45mNone\u001b[0m, \u001b[38;5;34m3\u001b[0m)              │            \u001b[38;5;34m15\u001b[0m │\n",
       "└─────────────────────────────────┴────────────────────────┴───────────────┘\n"
      ]
     },
     "metadata": {},
     "output_type": "display_data"
    },
    {
     "data": {
      "text/html": [
       "<pre style=\"white-space:pre;overflow-x:auto;line-height:normal;font-family:Menlo,'DejaVu Sans Mono',consolas,'Courier New',monospace\"><span style=\"font-weight: bold\"> Total params: </span><span style=\"color: #00af00; text-decoration-color: #00af00\">91</span> (364.00 B)\n",
       "</pre>\n"
      ],
      "text/plain": [
       "\u001b[1m Total params: \u001b[0m\u001b[38;5;34m91\u001b[0m (364.00 B)\n"
      ]
     },
     "metadata": {},
     "output_type": "display_data"
    },
    {
     "data": {
      "text/html": [
       "<pre style=\"white-space:pre;overflow-x:auto;line-height:normal;font-family:Menlo,'DejaVu Sans Mono',consolas,'Courier New',monospace\"><span style=\"font-weight: bold\"> Trainable params: </span><span style=\"color: #00af00; text-decoration-color: #00af00\">91</span> (364.00 B)\n",
       "</pre>\n"
      ],
      "text/plain": [
       "\u001b[1m Trainable params: \u001b[0m\u001b[38;5;34m91\u001b[0m (364.00 B)\n"
      ]
     },
     "metadata": {},
     "output_type": "display_data"
    },
    {
     "data": {
      "text/html": [
       "<pre style=\"white-space:pre;overflow-x:auto;line-height:normal;font-family:Menlo,'DejaVu Sans Mono',consolas,'Courier New',monospace\"><span style=\"font-weight: bold\"> Non-trainable params: </span><span style=\"color: #00af00; text-decoration-color: #00af00\">0</span> (0.00 B)\n",
       "</pre>\n"
      ],
      "text/plain": [
       "\u001b[1m Non-trainable params: \u001b[0m\u001b[38;5;34m0\u001b[0m (0.00 B)\n"
      ]
     },
     "metadata": {},
     "output_type": "display_data"
    }
   ],
   "source": [
    "print(\"Iris Dataset Model Summary:\")\n",
    "model_iris.summary()"
   ]
  },
  {
   "cell_type": "code",
   "execution_count": 165,
   "id": "dbcac778-6548-4224-8c72-dd5f5b2e8a19",
   "metadata": {},
   "outputs": [],
   "source": [
    "optimizer = Adam(learning_rate=0.1)\n",
    "model_iris.compile(optimizer=optimizer, loss='categorical_crossentropy', metrics=['accuracy'])"
   ]
  },
  {
   "cell_type": "code",
   "execution_count": 166,
   "id": "c03f0991-e152-4043-96f2-7488270c9b85",
   "metadata": {},
   "outputs": [],
   "source": [
    "epochs = 50\n",
    "batch_size = 16\n",
    "history_iris = model_iris.fit(X_train, y_train, validation_data=(X_val, y_val), epochs=epochs, batch_size=batch_size, verbose=0)"
   ]
  },
  {
   "cell_type": "code",
   "execution_count": 167,
   "id": "97dfda20-8e19-4858-9097-b3e9caeba451",
   "metadata": {},
   "outputs": [
    {
     "name": "stdout",
     "output_type": "stream",
     "text": [
      "Iris Test Accuracy: 1.0000\n"
     ]
    }
   ],
   "source": [
    "test_loss, test_acc = model_iris.evaluate(X_test, y_test, verbose=0)\n",
    "print(f\"Iris Test Accuracy: {test_acc:.4f}\")"
   ]
  },
  {
   "cell_type": "code",
   "execution_count": 168,
   "id": "0a6d39e3-9e4d-47b2-b7ba-6ba6826a882e",
   "metadata": {},
   "outputs": [
    {
     "data": {
      "image/png": "[encoded data removed]",
      "text/plain": [
       "<Figure size 1000x500 with 1 Axes>"
      ]
     },
     "metadata": {},
     "output_type": "display_data"
    }
   ],
   "source": [
    "plt.figure(figsize=(10,5))\n",
    "plt.plot(history_iris.history['loss'], label='Train Loss (MSE)')\n",
    "plt.plot(history_iris.history['val_loss'], label='Validation Loss (MSE)')\n",
    "plt.xlabel('Epoch')\n",
    "plt.ylabel('Loss')\n",
    "plt.title('Training and Validation Loss - Body Fat Dataset')\n",
    "plt.legend()\n",
    "plt.show()"
   ]
  },
  {
   "cell_type": "markdown",
   "id": "3205c036-d6cb-4533-a6bb-c54cab3cd4bb",
   "metadata": {},
   "source": [
    "### QUESTION 2\n",
    "#### Use the following hyperparameters/design choices for your neural network: \n",
    "- Split the data in the ratio Training: Validation: Testing = 80:10:10. \n",
    "- Perform Normalization using Standard Scalar. \n",
    "- Number of Hidden layers = 3 and number of units for each hidden layers are 128,64,32, respectively. \n",
    "- Use RELU activation function in the hidden layers, choose the optimizer as ADAM and set learning rate to be equal to 0.1. \n"
   ]
  },
  {
   "cell_type": "code",
   "execution_count": 169,
   "id": "4a66476c-cabd-4489-bccc-285a4f3b6d65",
   "metadata": {},
   "outputs": [],
   "source": [
    "df = pd.read_csv('bodyfat.csv')"
   ]
  },
  {
   "cell_type": "code",
   "execution_count": 170,
   "id": "12c62de3-3fc6-4c64-8399-a47f4351ae9b",
   "metadata": {},
   "outputs": [
    {
     "data": {
      "text/html": [
       "<div>\n",
       "<style scoped>\n",
       "    .dataframe tbody tr th:only-of-type {\n",
       "        vertical-align: middle;\n",
       "    }\n",
       "\n",
       "    .dataframe tbody tr th {\n",
       "        vertical-align: top;\n",
       "    }\n",
       "\n",
       "    .dataframe thead th {\n",
       "        text-align: right;\n",
       "    }\n",
       "</style>\n",
       "<table border=\"1\" class=\"dataframe\">\n",
       "  <thead>\n",
       "    <tr style=\"text-align: right;\">\n",
       "      <th></th>\n",
       "      <th>Density</th>\n",
       "      <th>BodyFat</th>\n",
       "      <th>Age</th>\n",
       "      <th>Weight</th>\n",
       "      <th>Height</th>\n",
       "      <th>Neck</th>\n",
       "      <th>Chest</th>\n",
       "      <th>Abdomen</th>\n",
       "      <th>Hip</th>\n",
       "      <th>Thigh</th>\n",
       "      <th>Knee</th>\n",
       "      <th>Ankle</th>\n",
       "      <th>Biceps</th>\n",
       "      <th>Forearm</th>\n",
       "      <th>Wrist</th>\n",
       "    </tr>\n",
       "  </thead>\n",
       "  <tbody>\n",
       "    <tr>\n",
       "      <th>0</th>\n",
       "      <td>1.0708</td>\n",
       "      <td>12.3</td>\n",
       "      <td>23</td>\n",
       "      <td>154.25</td>\n",
       "      <td>67.75</td>\n",
       "      <td>36.2</td>\n",
       "      <td>93.1</td>\n",
       "      <td>85.2</td>\n",
       "      <td>94.5</td>\n",
       "      <td>59.0</td>\n",
       "      <td>37.3</td>\n",
       "      <td>21.9</td>\n",
       "      <td>32.0</td>\n",
       "      <td>27.4</td>\n",
       "      <td>17.1</td>\n",
       "    </tr>\n",
       "    <tr>\n",
       "      <th>1</th>\n",
       "      <td>1.0853</td>\n",
       "      <td>6.1</td>\n",
       "      <td>22</td>\n",
       "      <td>173.25</td>\n",
       "      <td>72.25</td>\n",
       "      <td>38.5</td>\n",
       "      <td>93.6</td>\n",
       "      <td>83.0</td>\n",
       "      <td>98.7</td>\n",
       "      <td>58.7</td>\n",
       "      <td>37.3</td>\n",
       "      <td>23.4</td>\n",
       "      <td>30.5</td>\n",
       "      <td>28.9</td>\n",
       "      <td>18.2</td>\n",
       "    </tr>\n",
       "    <tr>\n",
       "      <th>2</th>\n",
       "      <td>1.0414</td>\n",
       "      <td>25.3</td>\n",
       "      <td>22</td>\n",
       "      <td>154.00</td>\n",
       "      <td>66.25</td>\n",
       "      <td>34.0</td>\n",
       "      <td>95.8</td>\n",
       "      <td>87.9</td>\n",
       "      <td>99.2</td>\n",
       "      <td>59.6</td>\n",
       "      <td>38.9</td>\n",
       "      <td>24.0</td>\n",
       "      <td>28.8</td>\n",
       "      <td>25.2</td>\n",
       "      <td>16.6</td>\n",
       "    </tr>\n",
       "    <tr>\n",
       "      <th>3</th>\n",
       "      <td>1.0751</td>\n",
       "      <td>10.4</td>\n",
       "      <td>26</td>\n",
       "      <td>184.75</td>\n",
       "      <td>72.25</td>\n",
       "      <td>37.4</td>\n",
       "      <td>101.8</td>\n",
       "      <td>86.4</td>\n",
       "      <td>101.2</td>\n",
       "      <td>60.1</td>\n",
       "      <td>37.3</td>\n",
       "      <td>22.8</td>\n",
       "      <td>32.4</td>\n",
       "      <td>29.4</td>\n",
       "      <td>18.2</td>\n",
       "    </tr>\n",
       "    <tr>\n",
       "      <th>4</th>\n",
       "      <td>1.0340</td>\n",
       "      <td>28.7</td>\n",
       "      <td>24</td>\n",
       "      <td>184.25</td>\n",
       "      <td>71.25</td>\n",
       "      <td>34.4</td>\n",
       "      <td>97.3</td>\n",
       "      <td>100.0</td>\n",
       "      <td>101.9</td>\n",
       "      <td>63.2</td>\n",
       "      <td>42.2</td>\n",
       "      <td>24.0</td>\n",
       "      <td>32.2</td>\n",
       "      <td>27.7</td>\n",
       "      <td>17.7</td>\n",
       "    </tr>\n",
       "    <tr>\n",
       "      <th>5</th>\n",
       "      <td>1.0502</td>\n",
       "      <td>20.9</td>\n",
       "      <td>24</td>\n",
       "      <td>210.25</td>\n",
       "      <td>74.75</td>\n",
       "      <td>39.0</td>\n",
       "      <td>104.5</td>\n",
       "      <td>94.4</td>\n",
       "      <td>107.8</td>\n",
       "      <td>66.0</td>\n",
       "      <td>42.0</td>\n",
       "      <td>25.6</td>\n",
       "      <td>35.7</td>\n",
       "      <td>30.6</td>\n",
       "      <td>18.8</td>\n",
       "    </tr>\n",
       "    <tr>\n",
       "      <th>6</th>\n",
       "      <td>1.0549</td>\n",
       "      <td>19.2</td>\n",
       "      <td>26</td>\n",
       "      <td>181.00</td>\n",
       "      <td>69.75</td>\n",
       "      <td>36.4</td>\n",
       "      <td>105.1</td>\n",
       "      <td>90.7</td>\n",
       "      <td>100.3</td>\n",
       "      <td>58.4</td>\n",
       "      <td>38.3</td>\n",
       "      <td>22.9</td>\n",
       "      <td>31.9</td>\n",
       "      <td>27.8</td>\n",
       "      <td>17.7</td>\n",
       "    </tr>\n",
       "    <tr>\n",
       "      <th>7</th>\n",
       "      <td>1.0704</td>\n",
       "      <td>12.4</td>\n",
       "      <td>25</td>\n",
       "      <td>176.00</td>\n",
       "      <td>72.50</td>\n",
       "      <td>37.8</td>\n",
       "      <td>99.6</td>\n",
       "      <td>88.5</td>\n",
       "      <td>97.1</td>\n",
       "      <td>60.0</td>\n",
       "      <td>39.4</td>\n",
       "      <td>23.2</td>\n",
       "      <td>30.5</td>\n",
       "      <td>29.0</td>\n",
       "      <td>18.8</td>\n",
       "    </tr>\n",
       "    <tr>\n",
       "      <th>8</th>\n",
       "      <td>1.0900</td>\n",
       "      <td>4.1</td>\n",
       "      <td>25</td>\n",
       "      <td>191.00</td>\n",
       "      <td>74.00</td>\n",
       "      <td>38.1</td>\n",
       "      <td>100.9</td>\n",
       "      <td>82.5</td>\n",
       "      <td>99.9</td>\n",
       "      <td>62.9</td>\n",
       "      <td>38.3</td>\n",
       "      <td>23.8</td>\n",
       "      <td>35.9</td>\n",
       "      <td>31.1</td>\n",
       "      <td>18.2</td>\n",
       "    </tr>\n",
       "    <tr>\n",
       "      <th>9</th>\n",
       "      <td>1.0722</td>\n",
       "      <td>11.7</td>\n",
       "      <td>23</td>\n",
       "      <td>198.25</td>\n",
       "      <td>73.50</td>\n",
       "      <td>42.1</td>\n",
       "      <td>99.6</td>\n",
       "      <td>88.6</td>\n",
       "      <td>104.1</td>\n",
       "      <td>63.1</td>\n",
       "      <td>41.7</td>\n",
       "      <td>25.0</td>\n",
       "      <td>35.6</td>\n",
       "      <td>30.0</td>\n",
       "      <td>19.2</td>\n",
       "    </tr>\n",
       "  </tbody>\n",
       "</table>\n",
       "</div>"
      ],
      "text/plain": [
       "   Density  BodyFat  Age  Weight  Height  Neck  Chest  Abdomen    Hip  Thigh  \\\n",
       "0   1.0708     12.3   23  154.25   67.75  36.2   93.1     85.2   94.5   59.0   \n",
       "1   1.0853      6.1   22  173.25   72.25  38.5   93.6     83.0   98.7   58.7   \n",
       "2   1.0414     25.3   22  154.00   66.25  34.0   95.8     87.9   99.2   59.6   \n",
       "3   1.0751     10.4   26  184.75   72.25  37.4  101.8     86.4  101.2   60.1   \n",
       "4   1.0340     28.7   24  184.25   71.25  34.4   97.3    100.0  101.9   63.2   \n",
       "5   1.0502     20.9   24  210.25   74.75  39.0  104.5     94.4  107.8   66.0   \n",
       "6   1.0549     19.2   26  181.00   69.75  36.4  105.1     90.7  100.3   58.4   \n",
       "7   1.0704     12.4   25  176.00   72.50  37.8   99.6     88.5   97.1   60.0   \n",
       "8   1.0900      4.1   25  191.00   74.00  38.1  100.9     82.5   99.9   62.9   \n",
       "9   1.0722     11.7   23  198.25   73.50  42.1   99.6     88.6  104.1   63.1   \n",
       "\n",
       "   Knee  Ankle  Biceps  Forearm  Wrist  \n",
       "0  37.3   21.9    32.0     27.4   17.1  \n",
       "1  37.3   23.4    30.5     28.9   18.2  \n",
       "2  38.9   24.0    28.8     25.2   16.6  \n",
       "3  37.3   22.8    32.4     29.4   18.2  \n",
       "4  42.2   24.0    32.2     27.7   17.7  \n",
       "5  42.0   25.6    35.7     30.6   18.8  \n",
       "6  38.3   22.9    31.9     27.8   17.7  \n",
       "7  39.4   23.2    30.5     29.0   18.8  \n",
       "8  38.3   23.8    35.9     31.1   18.2  \n",
       "9  41.7   25.0    35.6     30.0   19.2  "
      ]
     },
     "execution_count": 170,
     "metadata": {},
     "output_type": "execute_result"
    }
   ],
   "source": [
    "df.head(10)"
   ]
  },
  {
   "cell_type": "code",
   "execution_count": 171,
   "id": "237ed665-08ca-4ef2-9ff5-4d611eeb8157",
   "metadata": {},
   "outputs": [
    {
     "name": "stdout",
     "output_type": "stream",
     "text": [
      "<class 'pandas.core.frame.DataFrame'>\n",
      "RangeIndex: 252 entries, 0 to 251\n",
      "Data columns (total 15 columns):\n",
      " #   Column   Non-Null Count  Dtype  \n",
      "---  ------   --------------  -----  \n",
      " 0   Density  252 non-null    float64\n",
      " 1   BodyFat  252 non-null    float64\n",
      " 2   Age      252 non-null    int64  \n",
      " 3   Weight   252 non-null    float64\n",
      " 4   Height   252 non-null    float64\n",
      " 5   Neck     252 non-null    float64\n",
      " 6   Chest    252 non-null    float64\n",
      " 7   Abdomen  252 non-null    float64\n",
      " 8   Hip      252 non-null    float64\n",
      " 9   Thigh    252 non-null    float64\n",
      " 10  Knee     252 non-null    float64\n",
      " 11  Ankle    252 non-null    float64\n",
      " 12  Biceps   252 non-null    float64\n",
      " 13  Forearm  252 non-null    float64\n",
      " 14  Wrist    252 non-null    float64\n",
      "dtypes: float64(14), int64(1)\n",
      "memory usage: 29.7 KB\n"
     ]
    }
   ],
   "source": [
    "df.info()"
   ]
  },
  {
   "cell_type": "code",
   "execution_count": 172,
   "id": "eac9e563-5724-4328-9263-faea70b9cfb0",
   "metadata": {},
   "outputs": [
    {
     "data": {
      "text/html": [
       "<div>\n",
       "<style scoped>\n",
       "    .dataframe tbody tr th:only-of-type {\n",
       "        vertical-align: middle;\n",
       "    }\n",
       "\n",
       "    .dataframe tbody tr th {\n",
       "        vertical-align: top;\n",
       "    }\n",
       "\n",
       "    .dataframe thead th {\n",
       "        text-align: right;\n",
       "    }\n",
       "</style>\n",
       "<table border=\"1\" class=\"dataframe\">\n",
       "  <thead>\n",
       "    <tr style=\"text-align: right;\">\n",
       "      <th></th>\n",
       "      <th>Density</th>\n",
       "      <th>BodyFat</th>\n",
       "      <th>Age</th>\n",
       "      <th>Weight</th>\n",
       "      <th>Height</th>\n",
       "      <th>Neck</th>\n",
       "      <th>Chest</th>\n",
       "      <th>Abdomen</th>\n",
       "      <th>Hip</th>\n",
       "      <th>Thigh</th>\n",
       "      <th>Knee</th>\n",
       "      <th>Ankle</th>\n",
       "      <th>Biceps</th>\n",
       "      <th>Forearm</th>\n",
       "      <th>Wrist</th>\n",
       "    </tr>\n",
       "  </thead>\n",
       "  <tbody>\n",
       "    <tr>\n",
       "      <th>count</th>\n",
       "      <td>252.000000</td>\n",
       "      <td>252.000000</td>\n",
       "      <td>252.000000</td>\n",
       "      <td>252.000000</td>\n",
       "      <td>252.000000</td>\n",
       "      <td>252.000000</td>\n",
       "      <td>252.000000</td>\n",
       "      <td>252.000000</td>\n",
       "      <td>252.000000</td>\n",
       "      <td>252.000000</td>\n",
       "      <td>252.000000</td>\n",
       "      <td>252.000000</td>\n",
       "      <td>252.000000</td>\n",
       "      <td>252.000000</td>\n",
       "      <td>252.000000</td>\n",
       "    </tr>\n",
       "    <tr>\n",
       "      <th>mean</th>\n",
       "      <td>1.055574</td>\n",
       "      <td>19.150794</td>\n",
       "      <td>44.884921</td>\n",
       "      <td>178.924405</td>\n",
       "      <td>70.148810</td>\n",
       "      <td>37.992063</td>\n",
       "      <td>100.824206</td>\n",
       "      <td>92.555952</td>\n",
       "      <td>99.904762</td>\n",
       "      <td>59.405952</td>\n",
       "      <td>38.590476</td>\n",
       "      <td>23.102381</td>\n",
       "      <td>32.273413</td>\n",
       "      <td>28.663889</td>\n",
       "      <td>18.229762</td>\n",
       "    </tr>\n",
       "    <tr>\n",
       "      <th>std</th>\n",
       "      <td>0.019031</td>\n",
       "      <td>8.368740</td>\n",
       "      <td>12.602040</td>\n",
       "      <td>29.389160</td>\n",
       "      <td>3.662856</td>\n",
       "      <td>2.430913</td>\n",
       "      <td>8.430476</td>\n",
       "      <td>10.783077</td>\n",
       "      <td>7.164058</td>\n",
       "      <td>5.249952</td>\n",
       "      <td>2.411805</td>\n",
       "      <td>1.694893</td>\n",
       "      <td>3.021274</td>\n",
       "      <td>2.020691</td>\n",
       "      <td>0.933585</td>\n",
       "    </tr>\n",
       "    <tr>\n",
       "      <th>min</th>\n",
       "      <td>0.995000</td>\n",
       "      <td>0.000000</td>\n",
       "      <td>22.000000</td>\n",
       "      <td>118.500000</td>\n",
       "      <td>29.500000</td>\n",
       "      <td>31.100000</td>\n",
       "      <td>79.300000</td>\n",
       "      <td>69.400000</td>\n",
       "      <td>85.000000</td>\n",
       "      <td>47.200000</td>\n",
       "      <td>33.000000</td>\n",
       "      <td>19.100000</td>\n",
       "      <td>24.800000</td>\n",
       "      <td>21.000000</td>\n",
       "      <td>15.800000</td>\n",
       "    </tr>\n",
       "    <tr>\n",
       "      <th>25%</th>\n",
       "      <td>1.041400</td>\n",
       "      <td>12.475000</td>\n",
       "      <td>35.750000</td>\n",
       "      <td>159.000000</td>\n",
       "      <td>68.250000</td>\n",
       "      <td>36.400000</td>\n",
       "      <td>94.350000</td>\n",
       "      <td>84.575000</td>\n",
       "      <td>95.500000</td>\n",
       "      <td>56.000000</td>\n",
       "      <td>36.975000</td>\n",
       "      <td>22.000000</td>\n",
       "      <td>30.200000</td>\n",
       "      <td>27.300000</td>\n",
       "      <td>17.600000</td>\n",
       "    </tr>\n",
       "    <tr>\n",
       "      <th>50%</th>\n",
       "      <td>1.054900</td>\n",
       "      <td>19.200000</td>\n",
       "      <td>43.000000</td>\n",
       "      <td>176.500000</td>\n",
       "      <td>70.000000</td>\n",
       "      <td>38.000000</td>\n",
       "      <td>99.650000</td>\n",
       "      <td>90.950000</td>\n",
       "      <td>99.300000</td>\n",
       "      <td>59.000000</td>\n",
       "      <td>38.500000</td>\n",
       "      <td>22.800000</td>\n",
       "      <td>32.050000</td>\n",
       "      <td>28.700000</td>\n",
       "      <td>18.300000</td>\n",
       "    </tr>\n",
       "    <tr>\n",
       "      <th>75%</th>\n",
       "      <td>1.070400</td>\n",
       "      <td>25.300000</td>\n",
       "      <td>54.000000</td>\n",
       "      <td>197.000000</td>\n",
       "      <td>72.250000</td>\n",
       "      <td>39.425000</td>\n",
       "      <td>105.375000</td>\n",
       "      <td>99.325000</td>\n",
       "      <td>103.525000</td>\n",
       "      <td>62.350000</td>\n",
       "      <td>39.925000</td>\n",
       "      <td>24.000000</td>\n",
       "      <td>34.325000</td>\n",
       "      <td>30.000000</td>\n",
       "      <td>18.800000</td>\n",
       "    </tr>\n",
       "    <tr>\n",
       "      <th>max</th>\n",
       "      <td>1.108900</td>\n",
       "      <td>47.500000</td>\n",
       "      <td>81.000000</td>\n",
       "      <td>363.150000</td>\n",
       "      <td>77.750000</td>\n",
       "      <td>51.200000</td>\n",
       "      <td>136.200000</td>\n",
       "      <td>148.100000</td>\n",
       "      <td>147.700000</td>\n",
       "      <td>87.300000</td>\n",
       "      <td>49.100000</td>\n",
       "      <td>33.900000</td>\n",
       "      <td>45.000000</td>\n",
       "      <td>34.900000</td>\n",
       "      <td>21.400000</td>\n",
       "    </tr>\n",
       "  </tbody>\n",
       "</table>\n",
       "</div>"
      ],
      "text/plain": [
       "          Density     BodyFat         Age      Weight      Height        Neck  \\\n",
       "count  252.000000  252.000000  252.000000  252.000000  252.000000  252.000000   \n",
       "mean     1.055574   19.150794   44.884921  178.924405   70.148810   37.992063   \n",
       "std      0.019031    8.368740   12.602040   29.389160    3.662856    2.430913   \n",
       "min      0.995000    0.000000   22.000000  118.500000   29.500000   31.100000   \n",
       "25%      1.041400   12.475000   35.750000  159.000000   68.250000   36.400000   \n",
       "50%      1.054900   19.200000   43.000000  176.500000   70.000000   38.000000   \n",
       "75%      1.070400   25.300000   54.000000  197.000000   72.250000   39.425000   \n",
       "max      1.108900   47.500000   81.000000  363.150000   77.750000   51.200000   \n",
       "\n",
       "            Chest     Abdomen         Hip       Thigh        Knee       Ankle  \\\n",
       "count  252.000000  252.000000  252.000000  252.000000  252.000000  252.000000   \n",
       "mean   100.824206   92.555952   99.904762   59.405952   38.590476   23.102381   \n",
       "std      8.430476   10.783077    7.164058    5.249952    2.411805    1.694893   \n",
       "min     79.300000   69.400000   85.000000   47.200000   33.000000   19.100000   \n",
       "25%     94.350000   84.575000   95.500000   56.000000   36.975000   22.000000   \n",
       "50%     99.650000   90.950000   99.300000   59.000000   38.500000   22.800000   \n",
       "75%    105.375000   99.325000  103.525000   62.350000   39.925000   24.000000   \n",
       "max    136.200000  148.100000  147.700000   87.300000   49.100000   33.900000   \n",
       "\n",
       "           Biceps     Forearm       Wrist  \n",
       "count  252.000000  252.000000  252.000000  \n",
       "mean    32.273413   28.663889   18.229762  \n",
       "std      3.021274    2.020691    0.933585  \n",
       "min     24.800000   21.000000   15.800000  \n",
       "25%     30.200000   27.300000   17.600000  \n",
       "50%     32.050000   28.700000   18.300000  \n",
       "75%     34.325000   30.000000   18.800000  \n",
       "max     45.000000   34.900000   21.400000  "
      ]
     },
     "execution_count": 172,
     "metadata": {},
     "output_type": "execute_result"
    }
   ],
   "source": [
    "df.describe()"
   ]
  },
  {
   "cell_type": "code",
   "execution_count": 173,
   "id": "dbc4182c-196b-4673-8daf-fd65054b1f83",
   "metadata": {},
   "outputs": [],
   "source": [
    "X_bf = df.drop(columns=['BodyFat']).values\n",
    "y_bf = df['BodyFat'].values"
   ]
  },
  {
   "cell_type": "code",
   "execution_count": 174,
   "id": "ff40a8ba-5d1b-48d8-a66e-d277f6d55b2b",
   "metadata": {},
   "outputs": [],
   "source": [
    "X_train_bf, X_temp_bf, y_train_bf, y_temp_bf = train_test_split(X_bf, y_bf, test_size=0.2, random_state=42)\n",
    "X_val_bf, X_test_bf, y_val_bf, y_test_bf = train_test_split(X_temp_bf, y_temp_bf, test_size=0.5, random_state=42)"
   ]
  },
  {
   "cell_type": "code",
   "execution_count": 175,
   "id": "c095cb0d-2bd5-4480-aec7-7b70fbe25e58",
   "metadata": {},
   "outputs": [],
   "source": [
    "scaler = StandardScaler()\n",
    "X_train_bf_scaled = scaler.fit_transform(X_train_bf)\n",
    "X_val_bf_scaled = scaler.transform(X_val_bf)\n",
    "X_test_bf_scaled = scaler.transform(X_test_bf)"
   ]
  },
  {
   "cell_type": "code",
   "execution_count": 176,
   "id": "b8ce9759-c1a6-46de-b1a1-6b3c1fdfba0f",
   "metadata": {},
   "outputs": [],
   "source": [
    "model_bf = Sequential([\n",
    "    Dense(128, activation='relu', input_shape=(X_bf.shape[1],)),\n",
    "    Dense(64, activation='relu'),\n",
    "    Dense(32, activation='relu'),\n",
    "    Dense(1)\n",
    "])"
   ]
  },
  {
   "cell_type": "code",
   "execution_count": 177,
   "id": "69af1420-0ee2-4af3-80e0-3a5cf51f2a16",
   "metadata": {},
   "outputs": [
    {
     "name": "stdout",
     "output_type": "stream",
     "text": [
      "\n",
      "Body Fat Dataset Model Summary:\n"
     ]
    },
    {
     "data": {
      "text/html": [
       "<pre style=\"white-space:pre;overflow-x:auto;line-height:normal;font-family:Menlo,'DejaVu Sans Mono',consolas,'Courier New',monospace\"><span style=\"font-weight: bold\">Model: \"sequential_16\"</span>\n",
       "</pre>\n"
      ],
      "text/plain": [
       "\u001b[1mModel: \"sequential_16\"\u001b[0m\n"
      ]
     },
     "metadata": {},
     "output_type": "display_data"
    },
    {
     "data": {
      "text/html": [
       "<pre style=\"white-space:pre;overflow-x:auto;line-height:normal;font-family:Menlo,'DejaVu Sans Mono',consolas,'Courier New',monospace\">┏━━━━━━━━━━━━━━━━━━━━━━━━━━━━━━━━━┳━━━━━━━━━━━━━━━━━━━━━━━━┳━━━━━━━━━━━━━━━┓\n",
       "┃<span style=\"font-weight: bold\"> Layer (type)                    </span>┃<span style=\"font-weight: bold\"> Output Shape           </span>┃<span style=\"font-weight: bold\">       Param # </span>┃\n",
       "┡━━━━━━━━━━━━━━━━━━━━━━━━━━━━━━━━━╇━━━━━━━━━━━━━━━━━━━━━━━━╇━━━━━━━━━━━━━━━┩\n",
       "│ dense_50 (<span style=\"color: #0087ff; text-decoration-color: #0087ff\">Dense</span>)                │ (<span style=\"color: #00d7ff; text-decoration-color: #00d7ff\">None</span>, <span style=\"color: #00af00; text-decoration-color: #00af00\">128</span>)            │         <span style=\"color: #00af00; text-decoration-color: #00af00\">1,920</span> │\n",
       "├─────────────────────────────────┼────────────────────────┼───────────────┤\n",
       "│ dense_51 (<span style=\"color: #0087ff; text-decoration-color: #0087ff\">Dense</span>)                │ (<span style=\"color: #00d7ff; text-decoration-color: #00d7ff\">None</span>, <span style=\"color: #00af00; text-decoration-color: #00af00\">64</span>)             │         <span style=\"color: #00af00; text-decoration-color: #00af00\">8,256</span> │\n",
       "├─────────────────────────────────┼────────────────────────┼───────────────┤\n",
       "│ dense_52 (<span style=\"color: #0087ff; text-decoration-color: #0087ff\">Dense</span>)                │ (<span style=\"color: #00d7ff; text-decoration-color: #00d7ff\">None</span>, <span style=\"color: #00af00; text-decoration-color: #00af00\">32</span>)             │         <span style=\"color: #00af00; text-decoration-color: #00af00\">2,080</span> │\n",
       "├─────────────────────────────────┼────────────────────────┼───────────────┤\n",
       "│ dense_53 (<span style=\"color: #0087ff; text-decoration-color: #0087ff\">Dense</span>)                │ (<span style=\"color: #00d7ff; text-decoration-color: #00d7ff\">None</span>, <span style=\"color: #00af00; text-decoration-color: #00af00\">1</span>)              │            <span style=\"color: #00af00; text-decoration-color: #00af00\">33</span> │\n",
       "└─────────────────────────────────┴────────────────────────┴───────────────┘\n",
       "</pre>\n"
      ],
      "text/plain": [
       "┏━━━━━━━━━━━━━━━━━━━━━━━━━━━━━━━━━┳━━━━━━━━━━━━━━━━━━━━━━━━┳━━━━━━━━━━━━━━━┓\n",
       "┃\u001b[1m \u001b[0m\u001b[1mLayer (type)                   \u001b[0m\u001b[1m \u001b[0m┃\u001b[1m \u001b[0m\u001b[1mOutput Shape          \u001b[0m\u001b[1m \u001b[0m┃\u001b[1m \u001b[0m\u001b[1m      Param #\u001b[0m\u001b[1m \u001b[0m┃\n",
       "┡━━━━━━━━━━━━━━━━━━━━━━━━━━━━━━━━━╇━━━━━━━━━━━━━━━━━━━━━━━━╇━━━━━━━━━━━━━━━┩\n",
       "│ dense_50 (\u001b[38;5;33mDense\u001b[0m)                │ (\u001b[38;5;45mNone\u001b[0m, \u001b[38;5;34m128\u001b[0m)            │         \u001b[38;5;34m1,920\u001b[0m │\n",
       "├─────────────────────────────────┼────────────────────────┼───────────────┤\n",
       "│ dense_51 (\u001b[38;5;33mDense\u001b[0m)                │ (\u001b[38;5;45mNone\u001b[0m, \u001b[38;5;34m64\u001b[0m)             │         \u001b[38;5;34m8,256\u001b[0m │\n",
       "├─────────────────────────────────┼────────────────────────┼───────────────┤\n",
       "│ dense_52 (\u001b[38;5;33mDense\u001b[0m)                │ (\u001b[38;5;45mNone\u001b[0m, \u001b[38;5;34m32\u001b[0m)             │         \u001b[38;5;34m2,080\u001b[0m │\n",
       "├─────────────────────────────────┼────────────────────────┼───────────────┤\n",
       "│ dense_53 (\u001b[38;5;33mDense\u001b[0m)                │ (\u001b[38;5;45mNone\u001b[0m, \u001b[38;5;34m1\u001b[0m)              │            \u001b[38;5;34m33\u001b[0m │\n",
       "└─────────────────────────────────┴────────────────────────┴───────────────┘\n"
      ]
     },
     "metadata": {},
     "output_type": "display_data"
    },
    {
     "data": {
      "text/html": [
       "<pre style=\"white-space:pre;overflow-x:auto;line-height:normal;font-family:Menlo,'DejaVu Sans Mono',consolas,'Courier New',monospace\"><span style=\"font-weight: bold\"> Total params: </span><span style=\"color: #00af00; text-decoration-color: #00af00\">12,289</span> (48.00 KB)\n",
       "</pre>\n"
      ],
      "text/plain": [
       "\u001b[1m Total params: \u001b[0m\u001b[38;5;34m12,289\u001b[0m (48.00 KB)\n"
      ]
     },
     "metadata": {},
     "output_type": "display_data"
    },
    {
     "data": {
      "text/html": [
       "<pre style=\"white-space:pre;overflow-x:auto;line-height:normal;font-family:Menlo,'DejaVu Sans Mono',consolas,'Courier New',monospace\"><span style=\"font-weight: bold\"> Trainable params: </span><span style=\"color: #00af00; text-decoration-color: #00af00\">12,289</span> (48.00 KB)\n",
       "</pre>\n"
      ],
      "text/plain": [
       "\u001b[1m Trainable params: \u001b[0m\u001b[38;5;34m12,289\u001b[0m (48.00 KB)\n"
      ]
     },
     "metadata": {},
     "output_type": "display_data"
    },
    {
     "data": {
      "text/html": [
       "<pre style=\"white-space:pre;overflow-x:auto;line-height:normal;font-family:Menlo,'DejaVu Sans Mono',consolas,'Courier New',monospace\"><span style=\"font-weight: bold\"> Non-trainable params: </span><span style=\"color: #00af00; text-decoration-color: #00af00\">0</span> (0.00 B)\n",
       "</pre>\n"
      ],
      "text/plain": [
       "\u001b[1m Non-trainable params: \u001b[0m\u001b[38;5;34m0\u001b[0m (0.00 B)\n"
      ]
     },
     "metadata": {},
     "output_type": "display_data"
    }
   ],
   "source": [
    "print(\"\\nBody Fat Dataset Model Summary:\")\n",
    "model_bf.summary()"
   ]
  },
  {
   "cell_type": "code",
   "execution_count": 178,
   "id": "c64c2327-27f6-4165-bb81-bfa772dcff37",
   "metadata": {},
   "outputs": [],
   "source": [
    "optimizer_bf = Adam(learning_rate=0.1)\n",
    "model_bf.compile(optimizer=optimizer_bf, loss='mse', metrics=['mae'])"
   ]
  },
  {
   "cell_type": "code",
   "execution_count": 179,
   "id": "c10abdaf-ba0b-46e1-8439-51de7605715c",
   "metadata": {},
   "outputs": [],
   "source": [
    "epochs = 100\n",
    "batch_size = 16\n",
    "history_bf = model_bf.fit(X_train_bf_scaled, y_train_bf,\n",
    "                          validation_data=(X_val_bf_scaled, y_val_bf),\n",
    "                          epochs=epochs, batch_size=batch_size, verbose=0)"
   ]
  },
  {
   "cell_type": "code",
   "execution_count": 180,
   "id": "09200142-12be-4927-8885-19f47d11041e",
   "metadata": {},
   "outputs": [
    {
     "name": "stdout",
     "output_type": "stream",
     "text": [
      "Body Fat Test MAE: 0.4291\n"
     ]
    }
   ],
   "source": [
    "test_loss_bf, test_mae_bf = model_bf.evaluate(X_test_bf_scaled, y_test_bf, verbose=0)\n",
    "print(f\"Body Fat Test MAE: {test_mae_bf:.4f}\")"
   ]
  },
  {
   "cell_type": "code",
   "execution_count": 181,
   "id": "0f126047-9a3d-4030-b000-e9022380f2c1",
   "metadata": {},
   "outputs": [
    {
     "data": {
      "image/png": "[encoded data removed]",
      "text/plain": [
       "<Figure size 1000x500 with 1 Axes>"
      ]
     },
     "metadata": {},
     "output_type": "display_data"
    }
   ],
   "source": [
    "plt.figure(figsize=(10,5))\n",
    "plt.plot(history_bf.history['loss'], label='Train Loss (MSE)')\n",
    "plt.plot(history_bf.history['val_loss'], label='Validation Loss (MSE)')\n",
    "plt.xlabel('Epoch')\n",
    "plt.ylabel('Loss')\n",
    "plt.title('Training and Validation Loss - Body Fat Dataset')\n",
    "plt.legend()\n",
    "plt.show()"
   ]
  }
 ],
 "metadata": {
  "kernelspec": {
   "display_name": "Python 3",
   "language": "python",
   "name": "python3"
  },
  "language_info": {
   "codemirror_mode": {
    "name": "ipython",
    "version": 3
   },
   "file_extension": ".py",
   "mimetype": "text/x-python",
   "name": "python",
   "nbconvert_exporter": "python",
   "pygments_lexer": "ipython3",
   "version": "3.12.0"
  }
 },
 "nbformat": 4,
 "nbformat_minor": 5
}
